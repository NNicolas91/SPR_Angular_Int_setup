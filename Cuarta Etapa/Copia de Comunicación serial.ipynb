{
 "cells": [
  {
   "cell_type": "code",
   "execution_count": null,
   "id": "96bdaddd",
   "metadata": {},
   "outputs": [],
   "source": [
    "pip install pyserial"
   ]
  },
  {
   "cell_type": "code",
   "execution_count": null,
   "id": "8f385959",
   "metadata": {},
   "outputs": [],
   "source": [
    "#Busqueda del puerto\n",
    "import serial.tools.list_ports\n",
    "\n",
    "ports = serial.tools.list_ports.comports()\n",
    "for p in ports:\n",
    "    print(p.device)\n",
    "print(len(ports), 'ports found')"
   ]
  },
  {
   "cell_type": "code",
   "execution_count": 3,
   "id": "41104931",
   "metadata": {},
   "outputs": [
    {
     "data": {
      "text/plain": [
       "Serial<id=0x2241208fb80, open=False>(port='COM5', baudrate=9600, bytesize=8, parity='N', stopbits=1, timeout=None, xonxoff=False, rtscts=False, dsrdtr=False)"
      ]
     },
     "execution_count": 3,
     "metadata": {},
     "output_type": "execute_result"
    }
   ],
   "source": [
    "#Comprobación del puerto\n",
    "import serial\n",
    "ser = serial.Serial()\n",
    "ser.baudrate = 9600\n",
    "ser.port = 'COM5'\n",
    "ser"
   ]
  },
  {
   "cell_type": "code",
   "execution_count": 4,
   "id": "c6656f13",
   "metadata": {},
   "outputs": [
    {
     "ename": "SerialException",
     "evalue": "could not open port 'COM5': FileNotFoundError(2, 'El sistema no puede encontrar el archivo especificado.', None, 2)",
     "output_type": "error",
     "traceback": [
      "\u001b[1;31m---------------------------------------------------------------------------\u001b[0m",
      "\u001b[1;31mSerialException\u001b[0m                           Traceback (most recent call last)",
      "\u001b[1;32m~\\AppData\\Local\\Temp\\ipykernel_9388\\2614783420.py\u001b[0m in \u001b[0;36m<module>\u001b[1;34m\u001b[0m\n\u001b[0;32m      1\u001b[0m \u001b[1;31m#Abrir el puerto\u001b[0m\u001b[1;33m\u001b[0m\u001b[1;33m\u001b[0m\u001b[0m\n\u001b[1;32m----> 2\u001b[1;33m \u001b[0mser\u001b[0m\u001b[1;33m.\u001b[0m\u001b[0mopen\u001b[0m\u001b[1;33m(\u001b[0m\u001b[1;33m)\u001b[0m\u001b[1;33m\u001b[0m\u001b[1;33m\u001b[0m\u001b[0m\n\u001b[0m\u001b[0;32m      3\u001b[0m \u001b[0mser\u001b[0m\u001b[1;33m.\u001b[0m\u001b[0mis_open\u001b[0m\u001b[1;33m\u001b[0m\u001b[1;33m\u001b[0m\u001b[0m\n",
      "\u001b[1;32m~\\anaconda3\\lib\\site-packages\\serial\\serialwin32.py\u001b[0m in \u001b[0;36mopen\u001b[1;34m(self)\u001b[0m\n\u001b[0;32m     62\u001b[0m         \u001b[1;32mif\u001b[0m \u001b[0mself\u001b[0m\u001b[1;33m.\u001b[0m\u001b[0m_port_handle\u001b[0m \u001b[1;33m==\u001b[0m \u001b[0mwin32\u001b[0m\u001b[1;33m.\u001b[0m\u001b[0mINVALID_HANDLE_VALUE\u001b[0m\u001b[1;33m:\u001b[0m\u001b[1;33m\u001b[0m\u001b[1;33m\u001b[0m\u001b[0m\n\u001b[0;32m     63\u001b[0m             \u001b[0mself\u001b[0m\u001b[1;33m.\u001b[0m\u001b[0m_port_handle\u001b[0m \u001b[1;33m=\u001b[0m \u001b[1;32mNone\u001b[0m    \u001b[1;31m# 'cause __del__ is called anyway\u001b[0m\u001b[1;33m\u001b[0m\u001b[1;33m\u001b[0m\u001b[0m\n\u001b[1;32m---> 64\u001b[1;33m             \u001b[1;32mraise\u001b[0m \u001b[0mSerialException\u001b[0m\u001b[1;33m(\u001b[0m\u001b[1;34m\"could not open port {!r}: {!r}\"\u001b[0m\u001b[1;33m.\u001b[0m\u001b[0mformat\u001b[0m\u001b[1;33m(\u001b[0m\u001b[0mself\u001b[0m\u001b[1;33m.\u001b[0m\u001b[0mportstr\u001b[0m\u001b[1;33m,\u001b[0m \u001b[0mctypes\u001b[0m\u001b[1;33m.\u001b[0m\u001b[0mWinError\u001b[0m\u001b[1;33m(\u001b[0m\u001b[1;33m)\u001b[0m\u001b[1;33m)\u001b[0m\u001b[1;33m)\u001b[0m\u001b[1;33m\u001b[0m\u001b[1;33m\u001b[0m\u001b[0m\n\u001b[0m\u001b[0;32m     65\u001b[0m \u001b[1;33m\u001b[0m\u001b[0m\n\u001b[0;32m     66\u001b[0m         \u001b[1;32mtry\u001b[0m\u001b[1;33m:\u001b[0m\u001b[1;33m\u001b[0m\u001b[1;33m\u001b[0m\u001b[0m\n",
      "\u001b[1;31mSerialException\u001b[0m: could not open port 'COM5': FileNotFoundError(2, 'El sistema no puede encontrar el archivo especificado.', None, 2)"
     ]
    }
   ],
   "source": [
    "#Abrir el puerto\n",
    "ser.open()\n",
    "ser.is_open"
   ]
  },
  {
   "cell_type": "code",
   "execution_count": 10,
   "id": "d47687ce",
   "metadata": {},
   "outputs": [
    {
     "data": {
      "text/plain": [
       "6"
      ]
     },
     "execution_count": 10,
     "metadata": {},
     "output_type": "execute_result"
    }
   ],
   "source": [
    "com = \"in\"\n",
    "str_encoded= com.encode('utf_16','strict')\n",
    "str_encoded\n",
    "ser.write(str_encoded)"
   ]
  },
  {
   "cell_type": "code",
   "execution_count": 11,
   "id": "6a99dce8",
   "metadata": {},
   "outputs": [],
   "source": [
    "init = [\"0\",\"IN\",\"06\",\"12345678\",\"2015\",\"01\",\"81\",\"001F\",\"00000001\"]\n",
    "for n in init:\n",
    "    str_encoded= n.encode('utf_16','strict')\n",
    "    str_encoded\n",
    "    ser.write(str_encoded)"
   ]
  },
  {
   "cell_type": "code",
   "execution_count": null,
   "id": "ab1b38a2",
   "metadata": {},
   "outputs": [],
   "source": [
    "# Función que regresa el verdadero valor hexadecimal.\n",
    "# Por ejemplo, si recibe un 15 devuelve f, y si recibe un número menor a 10, devuelve el número sin modificarlo\n",
    "def obtener_caracter_hexadecimal(valor):\n",
    "    # Lo necesitamos como cadena\n",
    "    valor = str(valor)\n",
    "    equivalencias = {\n",
    "        \"10\": \"a\",\n",
    "        \"11\": \"b\",\n",
    "        \"12\": \"c\",\n",
    "        \"13\": \"d\",\n",
    "        \"14\": \"e\",\n",
    "        \"15\": \"f\",\n",
    "    }\n",
    "    if valor in equivalencias:\n",
    "        return equivalencias[valor]\n",
    "    else:\n",
    "        return valor\n",
    "\n",
    "\n",
    "def decimal_a_hexadecimal(decimal):\n",
    "    hexadecimal = \"\"\n",
    "    while decimal > 0:\n",
    "        residuo = decimal % 16\n",
    "        verdadero_caracter = obtener_caracter_hexadecimal(residuo)\n",
    "        hexadecimal = verdadero_caracter + hexadecimal\n",
    "        decimal = int(decimal / 16)\n",
    "    return hexadecimal"
   ]
  },
  {
   "cell_type": "code",
   "execution_count": null,
   "id": "417a34a3",
   "metadata": {},
   "outputs": [],
   "source": [
    "import serial\n",
    "import numpy as np\n",
    "des = input(\"Ingrese el desplazamiento\")\n",
    "dec_num = (float(des)*np.pi)/(4.38282*pow(10,-5)*180)\n",
    "hex = decimal_a_hexadecimal(int(dec_num))\n",
    "#str_encoded= hex.encode('utf_16','strict')\n",
    "#str_encoded\n",
    "hex"
   ]
  },
  {
   "cell_type": "code",
   "execution_count": null,
   "id": "4551789d",
   "metadata": {},
   "outputs": [],
   "source": [
    "hex = \"0FFFF7391\"\n",
    "str_encoded= hex.encode('utf_16','strict')\n",
    "str_encoded\n"
   ]
  },
  {
   "cell_type": "code",
   "execution_count": null,
   "id": "00c6a82b",
   "metadata": {},
   "outputs": [],
   "source": [
    "ser.write(str_encoded)"
   ]
  },
  {
   "cell_type": "code",
   "execution_count": null,
   "id": "e3d6534b",
   "metadata": {},
   "outputs": [],
   "source": [
    "import serial\n",
    "import numpy as np\n",
    "\n",
    "#Ingreso del desplazamiento y conversión a hexadecimal\n",
    "des = input(\"Ingrese el desplazamiento : \")\n",
    "dec_num = (float(des)*np.pi)/(*180)\n",
    "hex = decimal_a_hexadecimal(int(dec_num))\n",
    "str_encoded = hex.encode('utf_16','strict')\n",
    "str_encoded\n",
    "# Enviar una cadena de bytes\n",
    "ser.write(str_encoded)\n",
    "# Leer una línea de respuesta\n",
    "##response = ser.readline() \n",
    "\n",
    "# Imprimir la respuesta en formato de texto\n",
    "##print(response.decode())\n"
   ]
  },
  {
   "cell_type": "code",
   "execution_count": null,
   "id": "15af39ca",
   "metadata": {},
   "outputs": [],
   "source": [
    "str=\"00004DC7\"\n",
    "str_encoded= str.encode('utf_16','strict')\n",
    "print(\"The encoded string is: \", str_encoded)"
   ]
  },
  {
   "cell_type": "code",
   "execution_count": null,
   "id": "7df4e434",
   "metadata": {},
   "outputs": [],
   "source": [
    "import serial\n",
    "ser = serial.Serial(\"COM5\", 9600) \n",
    "print(ser.name)         # check which port was really used\n",
    "hex=\"0ma00004DC7\"\n",
    "str_encoded= hex.encode('utf_16','strict')\n",
    "ser.write(str_encoded)\n",
    "response = ser.readline() # Leer una línea de respuesta\n",
    "print(response.decode()) # Imprimir la respuesta en formato de texto\n",
    "ser.close() "
   ]
  },
  {
   "cell_type": "code",
   "execution_count": null,
   "id": "22a61895",
   "metadata": {},
   "outputs": [],
   "source": [
    "print('00004DC7')"
   ]
  },
  {
   "cell_type": "code",
   "execution_count": 12,
   "id": "efb44a7b",
   "metadata": {},
   "outputs": [
    {
     "data": {
      "text/plain": [
       "False"
      ]
     },
     "execution_count": 12,
     "metadata": {},
     "output_type": "execute_result"
    }
   ],
   "source": [
    "ser.close()\n",
    "ser.is_open"
   ]
  },
  {
   "cell_type": "code",
   "execution_count": null,
   "id": "90a22005",
   "metadata": {},
   "outputs": [],
   "source": [
    "import serial\n",
    "print(ser.name)         # check which port was really used\n",
    "ser.write(b'hello')     # write a string\n"
   ]
  }
 ],
 "metadata": {
  "kernelspec": {
   "display_name": "Python 3 (ipykernel)",
   "language": "python",
   "name": "python3"
  },
  "language_info": {
   "codemirror_mode": {
    "name": "ipython",
    "version": 3
   },
   "file_extension": ".py",
   "mimetype": "text/x-python",
   "name": "python",
   "nbconvert_exporter": "python",
   "pygments_lexer": "ipython3",
   "version": "3.9.13"
  }
 },
 "nbformat": 4,
 "nbformat_minor": 5
}
