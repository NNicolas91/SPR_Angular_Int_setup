{
 "cells": [
  {
   "cell_type": "code",
   "execution_count": null,
   "id": "378111c9",
   "metadata": {},
   "outputs": [],
   "source": [
    "pip install pyserial"
   ]
  },
  {
   "cell_type": "code",
   "execution_count": 14,
   "id": "ddc1c684",
   "metadata": {},
   "outputs": [],
   "source": [
    "#Librerias\n",
    "import serial.tools.list_ports\n",
    "import serial\n",
    "import numpy as np"
   ]
  },
  {
   "cell_type": "code",
   "execution_count": 15,
   "id": "e89ac447",
   "metadata": {},
   "outputs": [],
   "source": [
    "# Función que regresa el verdadero valor hexadecimal.\n",
    "# Por ejemplo, si recibe un 15 devuelve f, y si recibe un número menor a 10, devuelve el número sin modificarlo\n",
    "def obtener_caracter_hexadecimal(valor):\n",
    "    # Lo necesitamos como cadena\n",
    "    valor = str(valor)\n",
    "    equivalencias = {\n",
    "        \"10\": \"A\",\n",
    "        \"11\": \"B\",\n",
    "        \"12\": \"C\",\n",
    "        \"13\": \"D\",\n",
    "        \"14\": \"E\",\n",
    "        \"15\": \"F\",\n",
    "    }\n",
    "    if valor in equivalencias:\n",
    "        return equivalencias[valor]\n",
    "    else:\n",
    "        return valor\n",
    "\n",
    "\n",
    "def decimal_a_hexadecimal(decimal):\n",
    "    hexadecimal = \"\"\n",
    "    while decimal > 0:\n",
    "        residuo = decimal % 16\n",
    "        verdadero_caracter = obtener_caracter_hexadecimal(residuo)\n",
    "        hexadecimal = verdadero_caracter + hexadecimal\n",
    "        decimal = int(decimal / 16)\n",
    "    return hexadecimal"
   ]
  },
  {
   "cell_type": "code",
   "execution_count": 16,
   "id": "83855f03",
   "metadata": {},
   "outputs": [],
   "source": [
    "#tipo de movimiento \n",
    "def Tipo_de_movimiento(lower_bound, upper_bound):\n",
    "    while True:\n",
    "        try:\n",
    "            number = int(input(\"Tipo de desplazamiento:Mov absoluto (1) o Mov Relativo (2)\"))\n",
    "\n",
    "            if number == lower_bound:\n",
    "                tip = str(\"0ma\")\n",
    "                return tip\n",
    "            if number == upper_bound:\n",
    "                tip = str(\"0mr\")\n",
    "                return tip\n",
    "        except ValueError:\n",
    "            pass\n",
    "        print(f\"Por favor ingresa un número ({lower_bound} o {upper_bound})\")"
   ]
  },
  {
   "cell_type": "code",
   "execution_count": 19,
   "id": "4b12f4b4",
   "metadata": {},
   "outputs": [
    {
     "name": "stdout",
     "output_type": "stream",
     "text": [
      "COM5 Nombre del puerto:\n",
      "1 # de puertos detectados:\n",
      "El puerto se encuentra abierto\n",
      "Ingrese el desplazamiento (entre 0 y 359.99). \n",
      "O ingrese 999 para finalizar1\n",
      "Tipo de desplazamiento:Mov absoluto (1) o Mov Relativo (2)1\n",
      "En hexadecimal :  0PO0000018D\n",
      "\n",
      "En grados :  1.00\n",
      "Ingrese el desplazamiento (entre 0 y 359.99). \n",
      "O ingrese 999 para finalizar5\n",
      "Tipo de desplazamiento:Mov absoluto (1) o Mov Relativo (2)2\n",
      "En hexadecimal :  0PO0000095C\n",
      "\n",
      "En grados :  6.02\n",
      "Ingrese el desplazamiento (entre 0 y 359.99). \n",
      "O ingrese 999 para finalizar90\n",
      "Tipo de desplazamiento:Mov absoluto (1) o Mov Relativo (2)1\n",
      "En hexadecimal :  0PO00008BFC\n",
      "\n",
      "En grados :  89.99\n",
      "Ingrese el desplazamiento (entre 0 y 359.99). \n",
      "O ingrese 999 para finalizar0.5\n",
      "Tipo de desplazamiento:Mov absoluto (1) o Mov Relativo (2)2\n",
      "En hexadecimal :  0PO00008CBE\n",
      "\n",
      "En grados :  90.48\n",
      "Ingrese el desplazamiento (entre 0 y 359.99). \n",
      "O ingrese 999 para finalizar0.5\n",
      "Tipo de desplazamiento:Mov absoluto (1) o Mov Relativo (2)1\n",
      "En hexadecimal :  0PO000000CA\n",
      "\n",
      "En grados :  0.51\n",
      "Ingrese el desplazamiento (entre 0 y 359.99). \n",
      "O ingrese 999 para finalizar999\n",
      "Programa detenido\n"
     ]
    },
    {
     "data": {
      "text/plain": [
       "False"
      ]
     },
     "execution_count": 19,
     "metadata": {},
     "output_type": "execute_result"
    }
   ],
   "source": [
    "#Detección \n",
    "\n",
    "ports = serial.tools.list_ports.comports()\n",
    "for p in ports:\n",
    "    print(p.device, 'Nombre del puerto:')\n",
    "print(len(ports), '# de puertos detectados:')\n",
    "\n",
    "#Comprobación del puerto\n",
    "\n",
    "ser = serial.Serial()\n",
    "ser.baudrate = 9600\n",
    "ser.port = p.device\n",
    "ser.timeout=1\n",
    "xonxoff = False\n",
    "ser.rtscts = False\n",
    "ser.dsrdtr = False\n",
    "ser.stopbits = 1\n",
    "ser.bytesize = 8\n",
    "\n",
    "#Configuración del puerto\n",
    "#print(ser) \n",
    "\n",
    "#Apertura del puerto\n",
    "\n",
    "ser.open()\n",
    "a = ser.is_open\n",
    "\n",
    "\n",
    "#Comprobación del estado del puerto e inicialización\n",
    "\n",
    "if a:\n",
    "    print(\"El puerto se encuentra abierto\")\n",
    "\n",
    "else:\n",
    "    print(\"Puerto no disponible\")\n",
    "\n",
    "#inicialización\n",
    "\n",
    "com2 = \"0ho0\"\n",
    "init2 = com2.encode('utf_8','strict')\n",
    "ser.write(init2) \n",
    "\n",
    "#Leer una línea de respuesta\n",
    "response = ser.readline() \n",
    "\n",
    "#Crear archivo\n",
    "            \n",
    "archi1=open(\"datos.txt\",\"w\") \n",
    "        \n",
    "while True: \n",
    "    try:\n",
    "        #Ingreso del desplazamiento angular\n",
    "        des = float(input(\"Ingrese el desplazamiento (entre 0 y 359.99). \\nO ingrese 999 para finalizar\"))\n",
    "        if des == 999:\n",
    "            print(\"Programa detenido\")\n",
    "            break\n",
    "        if 0 <= des < 360:\n",
    "            \n",
    "            #Conversión a hexadecimal y codificación\n",
    "            dec_num = (float(des)*np.pi)/(4.38282*pow(10,-5)*180)\n",
    "            hexa = decimal_a_hexadecimal(int(dec_num))\n",
    "            hexa = hexa.zfill(8)\n",
    "            \n",
    "            #tipo de movimiento\n",
    "            tipo = Tipo_de_movimiento(1,2)\n",
    "            hexa = str(tipo + hexa)\n",
    "            #print(hexa)\n",
    "            str_encoded= hexa.encode('utf_8','strict') \n",
    "            \n",
    "            # Enviar una cadena de bytes\n",
    "            ser.write(str_encoded)\n",
    "            \n",
    "            #Verificación del hexadecimal unido\n",
    "            #str_encoded\n",
    "\n",
    "            # Leer una línea de respuesta\n",
    "            response = ser.readline() \n",
    "            print(\"En hexadecimal : \", response.decode())\n",
    "            # Respuesta y conversión a decimal\n",
    "\n",
    "            prueba1 = response.decode()\n",
    "            res_des = int(prueba1[3:11],16)\n",
    "\n",
    "            #Conversión a decimal a grados de la posión del motor\n",
    "\n",
    "            save_des = res_des*(4.38282*pow(10,-5)*180)/np.pi\n",
    "\n",
    "            #Impresión de la posión del motor en grados\n",
    "            print (\"En grados : \",\"{0:.2f}\".format(save_des))       \n",
    "            \n",
    "            #Guardar en archivo .txt\n",
    "            archi1.write(\"{0:.2f}\".format(save_des) + \"\\n\")\n",
    "            \n",
    "        else:\n",
    "            print(\"Por favor ingresa un número válido\")\n",
    "    except ValueError:\n",
    "        print(\"Por favor ingresa un número válido\")\n",
    "\n",
    "#Cerrar Archivo\n",
    "\n",
    "archi1.close()\n",
    "            \n",
    "#Cerrar puerto\n",
    "ser.close()\n",
    "ser.is_open        "
   ]
  },
  {
   "cell_type": "code",
   "execution_count": 6,
   "id": "6c9b0de0",
   "metadata": {},
   "outputs": [
    {
     "data": {
      "text/plain": [
       "False"
      ]
     },
     "execution_count": 6,
     "metadata": {},
     "output_type": "execute_result"
    }
   ],
   "source": [
    "ser.close()\n",
    "ser.is_open"
   ]
  },
  {
   "cell_type": "code",
   "execution_count": 12,
   "id": "2d7e3f6a",
   "metadata": {},
   "outputs": [],
   "source": [
    "pro = 2\n",
    "archi1=open(\"datos.txt\",\"w\") \n",
    "archi1.write(\"{0:.2f}\".format(pro) + \"\\n\") \n",
    "archi1.write(\"8\" + \"\\n\") \n",
    "archi1.close() "
   ]
  },
  {
   "cell_type": "code",
   "execution_count": null,
   "id": "d8d0b26a",
   "metadata": {},
   "outputs": [],
   "source": []
  }
 ],
 "metadata": {
  "kernelspec": {
   "display_name": "Python 3 (ipykernel)",
   "language": "python",
   "name": "python3"
  },
  "language_info": {
   "codemirror_mode": {
    "name": "ipython",
    "version": 3
   },
   "file_extension": ".py",
   "mimetype": "text/x-python",
   "name": "python",
   "nbconvert_exporter": "python",
   "pygments_lexer": "ipython3",
   "version": "3.9.13"
  }
 },
 "nbformat": 4,
 "nbformat_minor": 5
}
