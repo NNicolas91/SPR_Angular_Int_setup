{
 "cells": [
  {
   "cell_type": "code",
   "execution_count": null,
   "id": "378111c9",
   "metadata": {},
   "outputs": [],
   "source": [
    "#Instalación librerias\n",
    "pip install pyserial"
   ]
  },
  {
   "cell_type": "code",
   "execution_count": 3,
   "id": "e89ac447",
   "metadata": {},
   "outputs": [],
   "source": [
    "# Función que regresa el verdadero valor hexadecimal.\n",
    "# Por ejemplo, si recibe un 15 devuelve f, y si recibe un número menor a 10, devuelve el número sin modificarlo\n",
    "def obtener_caracter_hexadecimal(valor):\n",
    "    # Lo necesitamos como cadena\n",
    "    valor = str(valor)\n",
    "    equivalencias = {\n",
    "        \"10\": \"a\",\n",
    "        \"11\": \"b\",\n",
    "        \"12\": \"c\",\n",
    "        \"13\": \"d\",\n",
    "        \"14\": \"e\",\n",
    "        \"15\": \"f\",\n",
    "    }\n",
    "    if valor in equivalencias:\n",
    "        return equivalencias[valor]\n",
    "    else:\n",
    "        return valor\n",
    "\n",
    "\n",
    "def decimal_a_hexadecimal(decimal):\n",
    "    hexadecimal = \"\"\n",
    "    while decimal > 0:\n",
    "        residuo = decimal % 16\n",
    "        verdadero_caracter = obtener_caracter_hexadecimal(residuo)\n",
    "        hexadecimal = verdadero_caracter + hexadecimal\n",
    "        decimal = int(decimal / 16)\n",
    "    return hexadecimal"
   ]
  },
  {
   "cell_type": "code",
   "execution_count": 4,
   "id": "8f4efd82",
   "metadata": {},
   "outputs": [
    {
     "name": "stdout",
     "output_type": "stream",
     "text": [
      "COM5 Nombre del puerto:\n",
      "1 # de puertos detectados:\n",
      "El puerto se encuentra abierto\n",
      "Ingrese el desplazamiento90\n",
      "08bff\n",
      "008bff\n",
      "0008bff\n",
      "00008bff\n"
     ]
    },
    {
     "data": {
      "text/plain": [
       "11"
      ]
     },
     "execution_count": 4,
     "metadata": {},
     "output_type": "execute_result"
    }
   ],
   "source": [
    "#Librerias\n",
    "\n",
    "import serial.tools.list_ports\n",
    "import serial\n",
    "import numpy as np\n",
    "\n",
    "#Detección \n",
    "\n",
    "ports = serial.tools.list_ports.comports()\n",
    "for p in ports:\n",
    "    print(p.device, 'Nombre del puerto:')\n",
    "print(len(ports), '# de puertos detectados:')\n",
    "\n",
    "#Comprobación del puerto\n",
    "\n",
    "ser = serial.Serial()\n",
    "ser.baudrate = 9600\n",
    "ser.port = p.device\n",
    "ser.timeout=2\n",
    "xonxoff = False\n",
    "ser.rtscts = False\n",
    "ser.dsrdtr = False\n",
    "ser.stopbits = 1\n",
    "ser.bytesize = 8\n",
    "\n",
    "#Configuración del puerto\n",
    "#print(ser) \n",
    "\n",
    "#Apertura del puerto\n",
    "\n",
    "ser.open()\n",
    "a = ser.is_open\n",
    "\n",
    "#Comprobación del estado del puerto\n",
    "\n",
    "if a == bool(True):\n",
    "    print(\"El puerto se encuentra abierto\")\n",
    "else:\n",
    "    print(\"Puerto no disponible\")\n",
    "\n",
    "\n",
    "#Ingreso del desplazamiento y conversión a hexadecimal\n",
    "\n",
    "\n",
    "des = input(\"Ingrese el desplazamiento\")\n",
    "dec_num = (float(des)*np.pi)/(4.38282*pow(10,-5)*180)\n",
    "hex = decimal_a_hexadecimal(int(dec_num))\n",
    "\n",
    "while len(hex) != 8:\n",
    "    hex = str(\"0\" + hex)\n",
    "hex = str(\"0ma\" + hex)\n",
    "print(hex)\n",
    "str_encoded= hex.encode('utf_8','strict')\n",
    "\n",
    "#Verificación del hexadecimal unido\n",
    "#str_encoded\n",
    "\n",
    "# Enviar una cadena de bytes\n",
    "\n",
    "ser.write(str_encoded)\n",
    "\n",
    "# Leer una línea de respuesta\n",
    "##response = ser.readline() \n",
    "\n",
    "# Imprimir la respuesta en formato de texto\n",
    "##print(response.decode())\n"
   ]
  },
  {
   "cell_type": "code",
   "execution_count": null,
   "id": "5fe1e820",
   "metadata": {},
   "outputs": [],
   "source": [
    "ser.close()\n",
    "ser.is_open"
   ]
  }
 ],
 "metadata": {
  "kernelspec": {
   "display_name": "Python 3 (ipykernel)",
   "language": "python",
   "name": "python3"
  },
  "language_info": {
   "codemirror_mode": {
    "name": "ipython",
    "version": 3
   },
   "file_extension": ".py",
   "mimetype": "text/x-python",
   "name": "python",
   "nbconvert_exporter": "python",
   "pygments_lexer": "ipython3",
   "version": "3.9.13"
  }
 },
 "nbformat": 4,
 "nbformat_minor": 5
}
